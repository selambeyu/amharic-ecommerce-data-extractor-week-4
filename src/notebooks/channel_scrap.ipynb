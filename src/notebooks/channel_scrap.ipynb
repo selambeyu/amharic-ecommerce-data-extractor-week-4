{
 "cells": [
  {
   "cell_type": "code",
   "execution_count": 8,
   "id": "b09ab765",
   "metadata": {},
   "outputs": [
    {
     "ename": "ModuleNotFoundError",
     "evalue": "No module named 'telethon'",
     "output_type": "error",
     "traceback": [
      "\u001b[31m---------------------------------------------------------------------------\u001b[39m",
      "\u001b[31mModuleNotFoundError\u001b[39m                       Traceback (most recent call last)",
      "\u001b[36mCell\u001b[39m\u001b[36m \u001b[39m\u001b[32mIn[8]\u001b[39m\u001b[32m, line 5\u001b[39m\n\u001b[32m      1\u001b[39m \u001b[38;5;66;03m# ------------------------\u001b[39;00m\n\u001b[32m      2\u001b[39m \u001b[38;5;66;03m# SETUP AND IMPORTS\u001b[39;00m\n\u001b[32m      3\u001b[39m \u001b[38;5;66;03m# ------------------------\u001b[39;00m\n\u001b[32m----> \u001b[39m\u001b[32m5\u001b[39m \u001b[38;5;28;01mfrom\u001b[39;00m\u001b[38;5;250m \u001b[39m\u001b[34;01mtelethon\u001b[39;00m\u001b[34;01m.\u001b[39;00m\u001b[34;01msync\u001b[39;00m\u001b[38;5;250m \u001b[39m\u001b[38;5;28;01mimport\u001b[39;00m TelegramClient\n\u001b[32m      6\u001b[39m \u001b[38;5;28;01mfrom\u001b[39;00m\u001b[38;5;250m \u001b[39m\u001b[34;01mtelethon\u001b[39;00m\u001b[34;01m.\u001b[39;00m\u001b[34;01mtl\u001b[39;00m\u001b[34;01m.\u001b[39;00m\u001b[34;01mtypes\u001b[39;00m\u001b[38;5;250m \u001b[39m\u001b[38;5;28;01mimport\u001b[39;00m InputMessagesFilterPhotos, InputMessagesFilterDocument\n\u001b[32m      7\u001b[39m \u001b[38;5;28;01mfrom\u001b[39;00m\u001b[38;5;250m \u001b[39m\u001b[34;01mdotenv\u001b[39;00m\u001b[38;5;250m \u001b[39m\u001b[38;5;28;01mimport\u001b[39;00m load_dotenv\n",
      "\u001b[31mModuleNotFoundError\u001b[39m: No module named 'telethon'"
     ]
    }
   ],
   "source": [
    "# ------------------------\n",
    "# SETUP AND IMPORTS\n",
    "# ------------------------\n",
    "\n",
    "from telethon.sync import TelegramClient\n",
    "from telethon.tl.types import InputMessagesFilterPhotos, InputMessagesFilterDocument\n",
    "from dotenv import load_dotenv\n",
    "import os\n",
    "import pandas as pd\n",
    "import re\n",
    "\n",
    "load_dotenv()\n",
    "api_id = os.getenv(\"API_ID\")\n",
    "api_hash = os.getenv(\"API_HASH\")\n",
    "\n",
    "if not api_id:\n",
    "    api_id = input(\"Enter your Telegram API_ID: \")\n",
    "if not api_hash:\n",
    "    api_hash = input(\"Enter your Telegram API_HASH: \")\n",
    "\n",
    "# connect to the Telegram client\n",
    "# Make sure to replace 'ethio_ingestor' with your desired session name\n",
    "client = TelegramClient('ethio_ingestor', api_id, api_hash)\n",
    "\n",
    "async def main():\n",
    "    await client.start()\n",
    "    print(\"Client created successfully.\")\n",
    "    me = await client.get_me()\n",
    "    print(f\"Logged in as: {me.first_name} (ID: {me.id})\")\n",
    "    \n",
    "await main()"
   ]
  },
  {
   "cell_type": "code",
   "execution_count": null,
   "id": "46628882",
   "metadata": {},
   "outputs": [
    {
     "name": "stdout",
     "output_type": "stream",
     "text": [
      "Data saved to ../../data/telegram_data.csv\n"
     ]
    }
   ],
   "source": [
    "\n",
    "# -------------------------------------------------\n",
    "# INGESTION AND PREPROCESSING TELEGRAM CHANNEL DATA\n",
    "# --------------------------------------------------\n",
    "\n",
    "# Method for tokenizing Amharic text\n",
    "def tokenize_amharic(text):\n",
    "    tokens = re.findall(r'[\\u1200-\\u137F]+', text)\n",
    "    return tokens\n",
    "\n",
    "# Method for normalizing Amharic text\n",
    "def normalize_amharic(text):\n",
    "    replacements = {\n",
    "        \"ሀ\": \"ሃ\", \"ሐ\": \"ሓ\", \"ኀ\": \"ኃ\",\n",
    "        \"ሰ\": \"ሠ\", \"ጸ\": \"ፀ\"\n",
    "    }\n",
    "    for k, v in replacements.items():\n",
    "        text = text.replace(k, v)\n",
    "    return text\n",
    "\n",
    "async def ingest_and_preprocess():\n",
    "    data = []\n",
    "    channel_names = [\"@ethio_brand_collection\", \"@helloomarketethiopia\", \"@qnashcom\", \"@Shewabrand\", \"@marakibrand\"]\n",
    "    photo_dir = \"../../data/photos\"\n",
    "    os.makedirs(photo_dir, exist_ok=True)\n",
    "    async with client:\n",
    "        for channel in channel_names:\n",
    "            async for msg in client.iter_messages(channel, limit=500):\n",
    "                text = msg.text or \"\"\n",
    "                tokens = tokenize_amharic(text)\n",
    "                norm_text = normalize_amharic(text)\n",
    "                photo_path = None\n",
    "                if msg.photo:\n",
    "                    photo_path = await msg.download_media(file=photo_dir)\n",
    "                document_path = None\n",
    "                if msg.document:\n",
    "                    document_path = await msg.download_media(file=photo_dir)\n",
    "                data.append({\n",
    "                    \"channel\": channel,\n",
    "                    \"message_id\": msg.id,\n",
    "                    \"sender\": getattr(msg.sender, \"username\", None),\n",
    "                    \"timestamp\": msg.date,\n",
    "                    \"text\": text,\n",
    "                    \"tokens\": tokens,\n",
    "                    \"normalized_text\": norm_text,\n",
    "                    \"photo_path\": photo_path,\n",
    "                    \"document_path\": document_path\n",
    "                })\n",
    "    df = pd.DataFrame(data)\n",
    "    df.to_csv(\"../../data/telegram_data.csv\", index=False)\n",
    "    print(\"Data saved to ../../data/telegram_data.csv\")\n",
    "\n",
    "await ingest_and_preprocess()"
   ]
  }
 ],
 "metadata": {
  "kernelspec": {
   "display_name": "venv2",
   "language": "python",
   "name": "python3"
  },
  "language_info": {
   "codemirror_mode": {
    "name": "ipython",
    "version": 3
   },
   "file_extension": ".py",
   "mimetype": "text/x-python",
   "name": "python",
   "nbconvert_exporter": "python",
   "pygments_lexer": "ipython3",
   "version": "3.12.0"
  }
 },
 "nbformat": 4,
 "nbformat_minor": 5
}
